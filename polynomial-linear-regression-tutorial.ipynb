{
 "cells": [
  {
   "cell_type": "markdown",
   "metadata": {},
   "source": [
    "### Polynomial Linear Regression \n",
    "\n",
    "\n",
    "Polynomial regression is a form of regression analysis in which the relationship between the independent variable `x` and the dependent variable `y` is modelled as an `n`th degree polynomial in `x`.\n",
    "\n",
    "<a href=\"https://imgur.com/VWhAziI\"><img src=\"https://i.imgur.com/VWhAziI.png\" title=\"source: imgur.com\" /></a> \n",
    "\n",
    "\n",
    "We use a polynomial regression when the **straight line** (like in Linear Regression) doesn’t fit well our obervations and we want to obtain parabolic effect:\n",
    "\n",
    "<a href=\"https://imgur.com/yUffONM\"><img src=\"https://i.imgur.com/yUffONM.png\" title=\"source: imgur.com\" /></a>  \n",
    "\n",
    "Reference: [Polynomial Regression](https://medium.com/data-py-blog/polynomial-linear-regression-1f8117f6de2e)\n",
    "\n",
    "Let's take an example to explain Polynomial Regression."
   ]
  },
  {
   "cell_type": "markdown",
   "metadata": {
    "_kg_hide-input": false,
    "_uuid": "0c52553f5cb7a74adca1f2281a25086ef34cae33"
   },
   "source": [
    "Here we have data of Salary of employees based on their designation.We will be using varies  regression methods to  predict the salary of an employee.This is a work in process and please do vote if you like my work.  \n",
    "Reference: [Machine Learning A-Z™: Hands-On Python & R In Data Science](https://www.udemy.com/machinelearning/)"
   ]
  },
  {
   "cell_type": "code",
   "execution_count": 1,
   "metadata": {
    "_cell_guid": "b1076dfc-b9ad-4769-8c92-a6c4dae69d19",
    "_kg_hide-input": true,
    "_uuid": "8f2839f25d086af736a60e9eeb907d3b93b6e0e5"
   },
   "outputs": [
    {
     "name": "stdout",
     "output_type": "stream",
     "text": [
      "['Position_Salaries.csv']\n"
     ]
    }
   ],
   "source": [
    "# This Python 3 environment comes with many helpful analytics libraries installed\n",
    "# It is defined by the kaggle/python docker image: https://github.com/kaggle/docker-python\n",
    "# For example, here's several helpful packages to load in \n",
    "\n",
    "import numpy as np # linear algebra\n",
    "import pandas as pd # data processing, CSV file I/O (e.g. pd.read_csv)\n",
    "\n",
    "# Input data files are available in the \"../input/\" directory.\n",
    "# For example, running this (by clicking run or pressing Shift+Enter) will list the files in the input directory\n",
    "\n",
    "import os\n",
    "print(os.listdir(\"../input\"))\n",
    "\n",
    "# Any results you write to the current directory are saved as output. \n",
    "\n",
    "import matplotlib.pyplot as plt \n",
    "import numpy as np \n",
    "import seaborn as sns \n",
    "plt.style.use('fivethirtyeight')  \n",
    "import warnings\n",
    "warnings.filterwarnings('ignore')  #this will ignore the warnings.it wont display warnings in notebook"
   ]
  },
  {
   "cell_type": "code",
   "execution_count": 2,
   "metadata": {},
   "outputs": [
    {
     "data": {
      "text/html": [
       "<div>\n",
       "<style scoped>\n",
       "    .dataframe tbody tr th:only-of-type {\n",
       "        vertical-align: middle;\n",
       "    }\n",
       "\n",
       "    .dataframe tbody tr th {\n",
       "        vertical-align: top;\n",
       "    }\n",
       "\n",
       "    .dataframe thead th {\n",
       "        text-align: right;\n",
       "    }\n",
       "</style>\n",
       "<table border=\"1\" class=\"dataframe\">\n",
       "  <thead>\n",
       "    <tr style=\"text-align: right;\">\n",
       "      <th></th>\n",
       "      <th>Position</th>\n",
       "      <th>Level</th>\n",
       "      <th>Salary</th>\n",
       "    </tr>\n",
       "  </thead>\n",
       "  <tbody>\n",
       "    <tr>\n",
       "      <th>0</th>\n",
       "      <td>Business Analyst</td>\n",
       "      <td>1</td>\n",
       "      <td>45000</td>\n",
       "    </tr>\n",
       "    <tr>\n",
       "      <th>1</th>\n",
       "      <td>Junior Consultant</td>\n",
       "      <td>2</td>\n",
       "      <td>50000</td>\n",
       "    </tr>\n",
       "    <tr>\n",
       "      <th>2</th>\n",
       "      <td>Senior Consultant</td>\n",
       "      <td>3</td>\n",
       "      <td>60000</td>\n",
       "    </tr>\n",
       "    <tr>\n",
       "      <th>3</th>\n",
       "      <td>Manager</td>\n",
       "      <td>4</td>\n",
       "      <td>80000</td>\n",
       "    </tr>\n",
       "    <tr>\n",
       "      <th>4</th>\n",
       "      <td>Country Manager</td>\n",
       "      <td>5</td>\n",
       "      <td>110000</td>\n",
       "    </tr>\n",
       "    <tr>\n",
       "      <th>5</th>\n",
       "      <td>Region Manager</td>\n",
       "      <td>6</td>\n",
       "      <td>150000</td>\n",
       "    </tr>\n",
       "    <tr>\n",
       "      <th>6</th>\n",
       "      <td>Partner</td>\n",
       "      <td>7</td>\n",
       "      <td>200000</td>\n",
       "    </tr>\n",
       "    <tr>\n",
       "      <th>7</th>\n",
       "      <td>Senior Partner</td>\n",
       "      <td>8</td>\n",
       "      <td>300000</td>\n",
       "    </tr>\n",
       "    <tr>\n",
       "      <th>8</th>\n",
       "      <td>C-level</td>\n",
       "      <td>9</td>\n",
       "      <td>500000</td>\n",
       "    </tr>\n",
       "    <tr>\n",
       "      <th>9</th>\n",
       "      <td>CEO</td>\n",
       "      <td>10</td>\n",
       "      <td>1000000</td>\n",
       "    </tr>\n",
       "  </tbody>\n",
       "</table>\n",
       "</div>"
      ],
      "text/plain": [
       "            Position  Level   Salary\n",
       "0   Business Analyst      1    45000\n",
       "1  Junior Consultant      2    50000\n",
       "2  Senior Consultant      3    60000\n",
       "3            Manager      4    80000\n",
       "4    Country Manager      5   110000\n",
       "5     Region Manager      6   150000\n",
       "6            Partner      7   200000\n",
       "7     Senior Partner      8   300000\n",
       "8            C-level      9   500000\n",
       "9                CEO     10  1000000"
      ]
     },
     "execution_count": 2,
     "metadata": {},
     "output_type": "execute_result"
    }
   ],
   "source": [
    "# We can see that the dataset has 10 levels and the corresponding salary paid to the employee\n",
    "dataset = pd.read_csv(\"../input/Position_Salaries.csv\")\n",
    "dataset "
   ]
  },
  {
   "cell_type": "code",
   "execution_count": 3,
   "metadata": {
    "_kg_hide-input": true,
    "_uuid": "e953780a87ba00cc3b4ffd8c33f6d3c10afcf17d"
   },
   "outputs": [
    {
     "data": {
      "text/plain": [
       "array([[ 1],\n",
       "       [ 2],\n",
       "       [ 3],\n",
       "       [ 4],\n",
       "       [ 5],\n",
       "       [ 6],\n",
       "       [ 7],\n",
       "       [ 8],\n",
       "       [ 9],\n",
       "       [10]])"
      ]
     },
     "execution_count": 3,
     "metadata": {},
     "output_type": "execute_result"
    }
   ],
   "source": [
    "# For the features we are selecting all the rows of column Level \n",
    "# represented by column position 1 or -1 in the data set.\n",
    "X=dataset.iloc[:,1:2].values  \n",
    "\n",
    "# for the target we are selecting only the salary column which \n",
    "#can be selected using -1 or 2 as the column location in the dataset\n",
    "y=dataset.iloc[:,2].values   \n",
    "X"
   ]
  },
  {
   "cell_type": "markdown",
   "metadata": {
    "_uuid": "7b42af53282a3eb7357047fe674198e38a12c819"
   },
   "source": [
    "Position and the Level of the employee represent the same thing.So in out machine learning model it is sufficient to consider only on feature.In this case we can select the column Level. \n",
    "\n",
    "We will not be splitting the dataset as here we have only 10 data points.So we can consider all the values for out training purpose."
   ]
  },
  {
   "cell_type": "markdown",
   "metadata": {
    "_uuid": "d718586dc82c3aee3dbd734957f714e21259f87f"
   },
   "source": [
    "We need not use feature scaling for this particular model "
   ]
  },
  {
   "cell_type": "markdown",
   "metadata": {
    "_uuid": "6ba90b731925db7b5a626704034e68ee01fcf04f"
   },
   "source": [
    "#### Linear Regression"
   ]
  },
  {
   "cell_type": "code",
   "execution_count": 4,
   "metadata": {
    "_kg_hide-input": false,
    "_uuid": "beebebdf23e60324b73167ed3a552ed07a295b66"
   },
   "outputs": [
    {
     "data": {
      "text/plain": [
       "LinearRegression(copy_X=True, fit_intercept=True, n_jobs=None,\n",
       "         normalize=False)"
      ]
     },
     "execution_count": 4,
     "metadata": {},
     "output_type": "execute_result"
    }
   ],
   "source": [
    "from sklearn.linear_model import LinearRegression\n",
    "lin_reg=LinearRegression()\n",
    "lin_reg.fit(X,y)"
   ]
  },
  {
   "cell_type": "markdown",
   "metadata": {
    "_uuid": "b0e3eefeea5c2754d11f03adcdd6de1603bf0e8d"
   },
   "source": [
    "### Ploynomial Linear Regression"
   ]
  },
  {
   "cell_type": "code",
   "execution_count": 5,
   "metadata": {
    "_uuid": "0aecda366253387f74619f915631ecbd1ee388e7"
   },
   "outputs": [
    {
     "data": {
      "text/plain": [
       "LinearRegression(copy_X=True, fit_intercept=True, n_jobs=None,\n",
       "         normalize=False)"
      ]
     },
     "execution_count": 5,
     "metadata": {},
     "output_type": "execute_result"
    }
   ],
   "source": [
    "from sklearn.preprocessing import PolynomialFeatures\n",
    "poly_reg2=PolynomialFeatures(degree=2)\n",
    "X_poly=poly_reg2.fit_transform(X)\n",
    "lin_reg_2=LinearRegression()\n",
    "lin_reg_2.fit(X_poly,y)"
   ]
  },
  {
   "cell_type": "code",
   "execution_count": 6,
   "metadata": {
    "_uuid": "cd4f3e4674ffa3121e0687f2a8c4a6a73f2119df"
   },
   "outputs": [
    {
     "data": {
      "text/plain": [
       "LinearRegression(copy_X=True, fit_intercept=True, n_jobs=None,\n",
       "         normalize=False)"
      ]
     },
     "execution_count": 6,
     "metadata": {},
     "output_type": "execute_result"
    }
   ],
   "source": [
    "poly_reg3=PolynomialFeatures(degree=3)\n",
    "X_poly3=poly_reg3.fit_transform(X)\n",
    "lin_reg_3=LinearRegression()\n",
    "lin_reg_3.fit(X_poly3,y)"
   ]
  },
  {
   "cell_type": "markdown",
   "metadata": {
    "_uuid": "3c4372269d27081227c51712db22a056d24c4532"
   },
   "source": [
    "### Visualizing Linear Regression result"
   ]
  },
  {
   "cell_type": "code",
   "execution_count": 7,
   "metadata": {
    "_kg_hide-input": true,
    "_uuid": "521aaed1e040e904e52fee4d0fcf7d738059f53e"
   },
   "outputs": [
    {
     "data": {
      "image/png": "[encoded data removed]",
      "text/plain": [
       "<Figure size 432x288 with 1 Axes>"
      ]
     },
     "metadata": {},
     "output_type": "display_data"
    }
   ],
   "source": [
    "plt.scatter(X,y,color='red')\n",
    "plt.plot(X,lin_reg.predict(X),color='blue')\n",
    "plt.title('Truth Or Bluff (Linear Regression)')\n",
    "plt.xlabel('Position Level')\n",
    "plt.ylabel('Salary')\n",
    "plt.show()"
   ]
  },
  {
   "cell_type": "markdown",
   "metadata": {
    "_uuid": "b433ea49abdf2cad45deb52c1204fe7e5d2f279a"
   },
   "source": [
    "### Visualizing Plolynomial Linear Regression result"
   ]
  },
  {
   "cell_type": "code",
   "execution_count": 8,
   "metadata": {
    "_kg_hide-input": true,
    "_uuid": "34b0fca99bb31397fe574e3f777cdb59e41e2b36"
   },
   "outputs": [
    {
     "data": {
      "image/png": "[encoded data removed]",
      "text/plain": [
       "<Figure size 432x288 with 1 Axes>"
      ]
     },
     "metadata": {},
     "output_type": "display_data"
    }
   ],
   "source": [
    "plt.scatter(X,y,color='red')\n",
    "plt.plot(X,lin_reg_2.predict(poly_reg2.fit_transform(X)),color='blue')\n",
    "plt.plot(X,lin_reg_3.predict(poly_reg3.fit_transform(X)),color='green')\n",
    "plt.title('Truth Or Bluff (Polynomial Linear Regression)')\n",
    "plt.xlabel('Position Level')\n",
    "plt.ylabel('Salary')\n",
    "plt.show()"
   ]
  },
  {
   "cell_type": "markdown",
   "metadata": {
    "_uuid": "51d98165862813930d0fa957454f6024fd064cc9"
   },
   "source": [
    "We can clearly see that the Polynimal Linear Regression model has much better result compared to Linear Regression Model.As we increase the degree of the polynomial regression the correlation increases.4th degree Polynomial Linear Regression will gives us the best correlation for salary data."
   ]
  },
  {
   "cell_type": "markdown",
   "metadata": {
    "_uuid": "0c23883db41c313ff4fc2fabffd87aa63bfb32a2"
   },
   "source": [
    "**6.3 Smoothing out the curve using more points on X axis**"
   ]
  },
  {
   "cell_type": "code",
   "execution_count": 9,
   "metadata": {
    "_kg_hide-input": true,
    "_uuid": "94d3341682123db7dfb98142748d529705af10e4"
   },
   "outputs": [
    {
     "data": {
      "image/png": "[encoded data removed]",
      "text/plain": [
       "<Figure size 432x288 with 1 Axes>"
      ]
     },
     "metadata": {},
     "output_type": "display_data"
    }
   ],
   "source": [
    "X_grid=np.arange(min(X),max(X),0.1) # This will give us a vector.We will have to convert this into a matrix \n",
    "X_grid=X_grid.reshape((len(X_grid),1))\n",
    "plt.scatter(X,y,color='red')\n",
    "plt.plot(X_grid,lin_reg_3.predict(poly_reg3.fit_transform(X_grid)),color='blue')\n",
    "#plt.plot(X,lin_reg_3.predict(poly_reg3.fit_transform(X)),color='green')\n",
    "plt.title('Truth Or Bluff (Polynomial Linear Regression)')\n",
    "plt.xlabel('Position Level')\n",
    "plt.ylabel('Salary')\n",
    "plt.show()"
   ]
  },
  {
   "cell_type": "markdown",
   "metadata": {
    "_uuid": "ad1811ef77501a872d75c861a8c30894277069e9"
   },
   "source": [
    "We can see that by increasing the number of points in the X we can smooth out the curve."
   ]
  },
  {
   "cell_type": "markdown",
   "metadata": {
    "_uuid": "ed401376a83b2831d3403942961ec39c66a926fe"
   },
   "source": [
    "**7. Predicting the salrary of the employee **"
   ]
  },
  {
   "cell_type": "code",
   "execution_count": 10,
   "metadata": {
    "_uuid": "0e025d178fd3bf04fe4f58edb3f7a10bc640bddc"
   },
   "outputs": [
    {
     "data": {
      "text/plain": [
       "array([330378.78787879])"
      ]
     },
     "execution_count": 10,
     "metadata": {},
     "output_type": "execute_result"
    }
   ],
   "source": [
    "lin_reg.predict([[6.5]])  # We are assuming the level of the employee is 6.5"
   ]
  },
  {
   "cell_type": "code",
   "execution_count": 11,
   "metadata": {
    "_uuid": "d0a42f27e221b562deb8911c29438ea20fa414e3"
   },
   "outputs": [
    {
     "data": {
      "text/plain": [
       "array([189498.10606061])"
      ]
     },
     "execution_count": 11,
     "metadata": {},
     "output_type": "execute_result"
    }
   ],
   "source": [
    "lin_reg_2.predict(poly_reg2.fit_transform([[6.5]]))"
   ]
  },
  {
   "cell_type": "code",
   "execution_count": 12,
   "metadata": {
    "_uuid": "d3b44264e69a08f4d712c77ae2611f5b653ce34c"
   },
   "outputs": [
    {
     "data": {
      "text/plain": [
       "array([133259.46969697])"
      ]
     },
     "execution_count": 12,
     "metadata": {},
     "output_type": "execute_result"
    }
   ],
   "source": [
    "lin_reg_3.predict(poly_reg3.fit_transform([[6.5]]))"
   ]
  },
  {
   "cell_type": "markdown",
   "metadata": {
    "_uuid": "f94d67cc6b1d072027934ed0537bdeba55cb4776"
   },
   "source": [
    "We can see that the linear regression predicted values if higher.So this is not a good model.We can see that Polynomial Linear regression has better prediction.Accuracy of Polynomial Linear regression increases with the increase in the degree of the Polynomial."
   ]
  }
 ],
 "metadata": {
  "kernelspec": {
   "display_name": "Python 3",
   "language": "python",
   "name": "python3"
  },
  "language_info": {
   "codemirror_mode": {
    "name": "ipython",
    "version": 3
   },
   "file_extension": ".py",
   "mimetype": "text/x-python",
   "name": "python",
   "nbconvert_exporter": "python",
   "pygments_lexer": "ipython3",
   "version": "3.6.6"
  }
 },
 "nbformat": 4,
 "nbformat_minor": 1
}
